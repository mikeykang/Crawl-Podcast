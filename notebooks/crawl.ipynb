{
 "cells": [
  {
   "cell_type": "markdown",
   "metadata": {},
   "source": [
    "## From API"
   ]
  },
  {
   "cell_type": "code",
   "execution_count": 1,
   "metadata": {},
   "outputs": [],
   "source": [
    "import time\n",
    "import hashlib\n",
    "import requests\n",
    "import xml.etree.ElementTree as ET\n",
    "\n",
    "API_KEY = \"N5DHW3ZFJFCXLU8ZBNBY\"\n",
    "API_SECRET = \"D^8VB6BAankbhfE96$Gsh2d69MNRT6Gp7azG5X7Q\"\n",
    "\n",
    "URL = \"https://api.podcastindex.org/api/1.0/search/byterm?q=\""
   ]
  },
  {
   "cell_type": "code",
   "execution_count": null,
   "metadata": {},
   "outputs": [],
   "source": [
    "query = \"with\"\n",
    "url = URL + query\n",
    "\n",
    "print(url)"
   ]
  },
  {
   "cell_type": "code",
   "execution_count": null,
   "metadata": {},
   "outputs": [],
   "source": [
    "epoch_time = int(time.time())\n",
    "data_to_has = API_KEY + API_SECRET + str(epoch_time)\n",
    "sha = hashlib.sha1(data_to_has.encode()).hexdigest()\n",
    "\n",
    "headers = {\n",
    "    \"X-Auth-Date\": str(epoch_time),\n",
    "    \"X-Auth-Key\": API_KEY,\n",
    "    \"Authorization\": sha,\n",
    "    \"User-Agent\": \"postcasting-index-python-cli\",\n",
    "}\n",
    "\n",
    "response = requests.get(url, headers=headers)\n",
    "print(response.json())"
   ]
  },
  {
   "cell_type": "code",
   "execution_count": 13,
   "metadata": {},
   "outputs": [],
   "source": [
    "data = response.json()"
   ]
  },
  {
   "cell_type": "code",
   "execution_count": null,
   "metadata": {},
   "outputs": [],
   "source": [
    "audio_tracks = []\n",
    "for podcast_url in data[\"feeds\"]:\n",
    "    feed_response = requests.get(podcast_url[\"url\"])\n",
    "    root = ET.fromstring(feed_response.text)\n",
    "    for item in root.findall(\".//item\"):\n",
    "        enclosure = item.find(\"enclosure\")\n",
    "        if enclosure is not None:\n",
    "            audio_url = enclosure.get(\"url\")\n",
    "            audio_tracks.append(audio_url)\n",
    "\n",
    "print(len(audio_tracks))"
   ]
  },
  {
   "cell_type": "markdown",
   "metadata": {},
   "source": [
    "## From database"
   ]
  },
  {
   "cell_type": "code",
   "execution_count": 7,
   "metadata": {},
   "outputs": [],
   "source": [
    "import sqlite3\n",
    "import xml.etree.ElementTree as ET"
   ]
  },
  {
   "cell_type": "code",
   "execution_count": 16,
   "metadata": {},
   "outputs": [],
   "source": [
    "conn = sqlite3.connect(\"podcastindex_feeds.db\")\n",
    "conn.row_factory = sqlite3.Row\n",
    "cursor = conn.cursor()"
   ]
  },
  {
   "cell_type": "code",
   "execution_count": 9,
   "metadata": {},
   "outputs": [
    {
     "name": "stdout",
     "output_type": "stream",
     "text": [
      "4369929\n"
     ]
    }
   ],
   "source": [
    "cursor.execute(\"SELECT COUNT(*) FROM podcasts\")\n",
    "print(cursor.fetchone()[0])"
   ]
  },
  {
   "cell_type": "code",
   "execution_count": 34,
   "metadata": {},
   "outputs": [
    {
     "name": "stdout",
     "output_type": "stream",
     "text": [
      "Failed to fetch feed 5 http://feeds.feedburner.com/DirtBikePodcast\n"
     ]
    }
   ],
   "source": [
    "audio_tracks = []\n",
    "\n",
    "cursor.execute(\"SELECT * FROM podcasts LIMIT 10 OFFSET 0;\")\n",
    "for i, row in enumerate(cursor.fetchall()):\n",
    "    feed_url = dict(row)[\"url\"]\n",
    "    headers = {\n",
    "        \"User-Agent\": \"Mozilla/5.0 (Windows NT 10.0; Win64; x64) AppleWebKit/537.36 (KHTML, like Gecko) Chrome/91.0.4472.124 Safari/537.36\"\n",
    "    }\n",
    "    feed_response = requests.get(feed_url, headers=headers, timeout=10)\n",
    "\n",
    "    if feed_response.status_code == 200 and feed_response.content:\n",
    "        try:\n",
    "            root = ET.fromstring(feed_response.content)\n",
    "            for item in root.findall(\".//item\"):\n",
    "                enclosure = item.find(\"enclosure\")\n",
    "                if enclosure is not None:\n",
    "                    audio_url = enclosure.get(\"url\")\n",
    "                    if audio_url:\n",
    "                        audio_tracks.append(audio_url)\n",
    "        except ET.ParseError as e:\n",
    "            print(f\"XML parsing error for feed {i} {feed_url}: {e}\")\n",
    "    else:\n",
    "        print(f\"Failed to fetch feed {i} {feed_url}\")"
   ]
  },
  {
   "cell_type": "code",
   "execution_count": 35,
   "metadata": {},
   "outputs": [
    {
     "name": "stdout",
     "output_type": "stream",
     "text": [
      "918\n"
     ]
    }
   ],
   "source": [
    "print(len(audio_tracks))"
   ]
  }
 ],
 "metadata": {
  "kernelspec": {
   "display_name": "base",
   "language": "python",
   "name": "python3"
  },
  "language_info": {
   "codemirror_mode": {
    "name": "ipython",
    "version": 3
   },
   "file_extension": ".py",
   "mimetype": "text/x-python",
   "name": "python",
   "nbconvert_exporter": "python",
   "pygments_lexer": "ipython3",
   "version": "3.10.14"
  }
 },
 "nbformat": 4,
 "nbformat_minor": 2
}
